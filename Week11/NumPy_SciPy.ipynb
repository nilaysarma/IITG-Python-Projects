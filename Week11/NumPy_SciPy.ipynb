{
 "cells": [
  {
   "cell_type": "markdown",
   "metadata": {},
   "source": [
    "# Week 11 Lab: Linear Algebra with NumPy and SciPy\n",
    "### Objective: Learn to use NumPy and SciPy for basic linear algebra operations."
   ]
  },
  {
   "cell_type": "code",
   "execution_count": 10,
   "metadata": {},
   "outputs": [],
   "source": [
    "import numpy as np\n",
    "from scipy.linalg import solve"
   ]
  },
  {
   "cell_type": "markdown",
   "metadata": {},
   "source": [
    "1. Create a 3×3 random matrix and compute its inverse using `numpy.linalg.inv()` ."
   ]
  },
  {
   "cell_type": "code",
   "execution_count": 3,
   "metadata": {},
   "outputs": [
    {
     "name": "stdout",
     "output_type": "stream",
     "text": [
      "Original 3x3 Matrix:\n",
      "[[0.72953468 0.74893778 0.26893924]\n",
      " [0.86920515 0.18262313 0.27788124]\n",
      " [0.83937656 0.46976966 0.87161381]]\n",
      "\n",
      "Inverse of the Matrix:\n",
      "[[-0.0944371   1.73609371 -0.52434923]\n",
      " [ 1.72923169 -1.3525177  -0.10236066]\n",
      " [-0.84105172 -0.94292286  1.70742177]]\n"
     ]
    }
   ],
   "source": [
    "matrix = np.random.rand(3, 3)\n",
    "inverse_matrix = np.linalg.inv(matrix)\n",
    "    \n",
    "print(\"Original 3x3 Matrix:\")\n",
    "print(matrix)\n",
    "print(\"\\nInverse of the Matrix:\")\n",
    "print(inverse_matrix)"
   ]
  },
  {
   "cell_type": "markdown",
   "metadata": {},
   "source": [
    "2. Compute the dot product of two randomly generated vectors using `numpy.dot()` ."
   ]
  },
  {
   "cell_type": "code",
   "execution_count": 5,
   "metadata": {},
   "outputs": [
    {
     "name": "stdout",
     "output_type": "stream",
     "text": [
      "Vector 1: [0.27085994 0.06135751 0.33404562]\n",
      "Vector 2: [0.39931404 0.89602486 0.37833129]\n",
      "\n",
      "Dot Product: 0.28951594736154673\n"
     ]
    }
   ],
   "source": [
    "vector1 = np.random.rand(3)\n",
    "vector2 = np.random.rand(3)\n",
    "\n",
    "dot_product = np.dot(vector1, vector2)\n",
    "    \n",
    "print(\"Vector 1:\", vector1)\n",
    "print(\"Vector 2:\", vector2)\n",
    "print(\"\\nDot Product:\", dot_product)"
   ]
  },
  {
   "cell_type": "markdown",
   "metadata": {},
   "source": [
    "3. Perform matrix-vector multiplication with NumPy."
   ]
  },
  {
   "cell_type": "code",
   "execution_count": 7,
   "metadata": {},
   "outputs": [
    {
     "name": "stdout",
     "output_type": "stream",
     "text": [
      "Matrix:\n",
      "[[0.97428333 0.43209745 0.84115207]\n",
      " [0.78203082 0.41747549 0.79518094]\n",
      " [0.02763361 0.94291781 0.83094786]]\n",
      "\n",
      "Vector:\n",
      "[0.21375953 0.04234875 0.57571466]\n",
      "\n",
      "Result of Matrix-Vector Multiplication:\n",
      "[0.71082471 0.64264343 0.5242272 ]\n"
     ]
    }
   ],
   "source": [
    "matrix = np.random.rand(3, 3)\n",
    "vector = np.random.rand(3)\n",
    "\n",
    "result = np.dot(matrix, vector)\n",
    "    \n",
    "print(\"Matrix:\")\n",
    "print(matrix)\n",
    "print(\"\\nVector:\")\n",
    "print(vector)\n",
    "print(\"\\nResult of Matrix-Vector Multiplication:\")\n",
    "print(result)"
   ]
  },
  {
   "cell_type": "markdown",
   "metadata": {},
   "source": [
    "4. Solve a system of linear equations using `scipy.linalg.solve()` ."
   ]
  },
  {
   "cell_type": "code",
   "execution_count": 12,
   "metadata": {},
   "outputs": [
    {
     "name": "stdout",
     "output_type": "stream",
     "text": [
      "Solution to the system of equations:\n",
      "[0.91666667 1.75       2.91666667]\n"
     ]
    }
   ],
   "source": [
    "A = np.array([[2, -1, 1],\n",
    "              [1,  3, 2],\n",
    "              [1, -1, 2]])\n",
    "    \n",
    "b = np.array([3, 12, 5])\n",
    "    \n",
    "x = solve(A, b)\n",
    "    \n",
    "print(\"Solution to the system of equations:\")\n",
    "print(x)"
   ]
  },
  {
   "cell_type": "markdown",
   "metadata": {},
   "source": [
    "5. Compute the eigenvalues and eigenvectors of a given square matrix."
   ]
  },
  {
   "cell_type": "code",
   "execution_count": 14,
   "metadata": {},
   "outputs": [
    {
     "name": "stdout",
     "output_type": "stream",
     "text": [
      "Matrix:\n",
      "[[ 4 -2  1]\n",
      " [ 1  1 -1]\n",
      " [ 3 -1  2]]\n",
      "\n",
      "Eigenvalues:\n",
      "[5.+0.j 1.+1.j 1.-1.j]\n",
      "\n",
      "Eigenvectors:\n",
      "[[ 7.07106781e-01+0.j          3.00122524e-01+0.25724788j\n",
      "   3.00122524e-01-0.25724788j]\n",
      " [-5.65783875e-17+0.j          7.28868987e-01+0.j\n",
      "   7.28868987e-01-0.j        ]\n",
      " [ 7.07106781e-01+0.j          3.00122524e-01-0.47162111j\n",
      "   3.00122524e-01+0.47162111j]]\n"
     ]
    }
   ],
   "source": [
    "matrix = np.array([[4, -2, 1],\n",
    "                   [1,  1, -1],\n",
    "                   [3, -1, 2]])\n",
    "    \n",
    "eigenvalues, eigenvectors = np.linalg.eig(matrix)\n",
    "    \n",
    "print(\"Matrix:\")\n",
    "print(matrix)\n",
    "print(\"\\nEigenvalues:\")\n",
    "print(eigenvalues)\n",
    "print(\"\\nEigenvectors:\")\n",
    "print(eigenvectors)"
   ]
  }
 ],
 "metadata": {
  "kernelspec": {
   "display_name": "myenv",
   "language": "python",
   "name": "python3"
  },
  "language_info": {
   "codemirror_mode": {
    "name": "ipython",
    "version": 3
   },
   "file_extension": ".py",
   "mimetype": "text/x-python",
   "name": "python",
   "nbconvert_exporter": "python",
   "pygments_lexer": "ipython3",
   "version": "3.12.8"
  }
 },
 "nbformat": 4,
 "nbformat_minor": 2
}
