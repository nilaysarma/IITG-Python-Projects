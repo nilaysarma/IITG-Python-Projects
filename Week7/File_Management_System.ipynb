{
 "cells": [
  {
   "cell_type": "markdown",
   "metadata": {},
   "source": [
    "# Week 7 Lab: File Management System for a Research Lab"
   ]
  },
  {
   "cell_type": "markdown",
   "metadata": {},
   "source": [
    "### Description\n",
    "You are working as a data manager in a research lab that collects and organizes data from various sources. Your task is to automate the organization of files stored in a messy directory containing text files (.txt), CSV datasets (.csv), JSON records (.json), images (.jpg, .png), and log files (.log)."
   ]
  },
  {
   "cell_type": "markdown",
   "metadata": {},
   "source": [
    "## Step 0 - Import modules/packages"
   ]
  },
  {
   "cell_type": "code",
   "execution_count": 10,
   "metadata": {},
   "outputs": [],
   "source": [
    "import os\n",
    "import glob\n",
    "import shutil\n",
    "from datetime import datetime"
   ]
  },
  {
   "cell_type": "markdown",
   "metadata": {},
   "source": [
    "## Step 1 - Understanding the Data Directory\n",
    "- Given a dataset directory (data_repository/), first, list all files using Python."
   ]
  },
  {
   "cell_type": "code",
   "execution_count": 8,
   "metadata": {},
   "outputs": [],
   "source": [
    "directory = \"data_repository\" # Define the directory"
   ]
  },
  {
   "cell_type": "code",
   "execution_count": 3,
   "metadata": {},
   "outputs": [
    {
     "name": "stdout",
     "output_type": "stream",
     "text": [
      "['activity.log', 'AndroidManifest.xml', 'bot_req.txt', 'course_req.txt', 'img_20250207102128189324.png', 'img_20250207111437344662.png', 'img_20250207165943833737.png', 'img_20250212021047288265.png', 'img_20250224213525161758.png', 'img_20250224213642259719.jpg', 'img_20250224213721843077.jpg', 'img_20250224213752852462.jpg', 'img_20250224213859419876.jpg', 'language.txt', 'QR-Code-Discord-Bot.png', 'quote1.json', 'quote2.json', 'req.txt', 'test.csv', 'train.csv', 'valorant_grouped_reports.json']\n"
     ]
    }
   ],
   "source": [
    "files = []\n",
    "\n",
    "with os.scandir(directory) as entries:\n",
    "    for entry in entries:\n",
    "        if entry.is_file():\n",
    "            files.append(entry.name)\n",
    "\n",
    "print(files)"
   ]
  },
  {
   "cell_type": "markdown",
   "metadata": {},
   "source": [
    "- Print the total number of files in the directory."
   ]
  },
  {
   "cell_type": "code",
   "execution_count": 4,
   "metadata": {},
   "outputs": [
    {
     "name": "stdout",
     "output_type": "stream",
     "text": [
      "Total number of files: 21\n"
     ]
    }
   ],
   "source": [
    "file_count = 0\n",
    "\n",
    "with os.scandir(directory) as entries:\n",
    "    for entry in entries:\n",
    "        if entry.is_file():\n",
    "            file_count += 1\n",
    "\n",
    "print(f\"Total number of files: {file_count}\")"
   ]
  },
  {
   "cell_type": "markdown",
   "metadata": {},
   "source": [
    "## Step 2 - Categorizing Files\n",
    "- Use `os` and `glob` to identify and count files by type (TXT, CSV, JSON, JPG, PNG, LOG).\n",
    "- Print the count of each file type."
   ]
  },
  {
   "cell_type": "code",
   "execution_count": 6,
   "metadata": {},
   "outputs": [
    {
     "name": "stdout",
     "output_type": "stream",
     "text": [
      "TXT files: 4\n",
      "CSV files: 2\n",
      "JSON files: 3\n",
      "JPG files: 4\n",
      "PNG files: 6\n",
      "LOG files: 1\n"
     ]
    }
   ],
   "source": [
    "file_types = [\"txt\", \"csv\", \"json\", \"jpg\", \"png\", \"log\"]\n",
    "file_counts = {}\n",
    "\n",
    "for file_type in file_types:\n",
    "    matching_files = glob.glob(os.path.join(directory, f\"*.{file_type}\"))\n",
    "    file_counts[file_type.upper()] = len(matching_files)\n",
    "\n",
    "for file_type, count in file_counts.items():\n",
    "    print(f\"{file_type} files: {count}\")"
   ]
  },
  {
   "cell_type": "markdown",
   "metadata": {},
   "source": [
    "## Step 3, 4 & 5 - Organizing Files into Folders & Handling Missing Directories\n",
    "- Create subdirectories inside `organized_data/` for each file type (e.g., `text_files/`, `csv_files/`,\n",
    "`images/`, `logs/`).\n",
    "- Move files into their respective folders.\n",
    "- If a required subdirectory does not exist, create it dynamically.\n",
    "- Ensure no files are lost in the process.\n",
    "- Append a timestamp (`YYYYMMDD_HHMMSS`) to log files before moving them (e.g.,\n",
    "`server_20250221_153045.log`)."
   ]
  },
  {
   "cell_type": "code",
   "execution_count": 14,
   "metadata": {},
   "outputs": [
    {
     "name": "stdout",
     "output_type": "stream",
     "text": [
      "Moved: activity.log → organized_data\\logs\\activity_20250228_135623.log\n",
      "Moved: AndroidManifest.xml → organized_data\\others\\AndroidManifest.xml\n",
      "Moved: bot_req.txt → organized_data\\text_files\\bot_req.txt\n",
      "Moved: course_req.txt → organized_data\\text_files\\course_req.txt\n",
      "Moved: img_20250207102128189324.png → organized_data\\images\\img_20250207102128189324.png\n",
      "Moved: img_20250207111437344662.png → organized_data\\images\\img_20250207111437344662.png\n",
      "Moved: img_20250207165943833737.png → organized_data\\images\\img_20250207165943833737.png\n",
      "Moved: img_20250212021047288265.png → organized_data\\images\\img_20250212021047288265.png\n",
      "Moved: img_20250224213525161758.png → organized_data\\images\\img_20250224213525161758.png\n",
      "Moved: img_20250224213642259719.jpg → organized_data\\images\\img_20250224213642259719.jpg\n",
      "Moved: img_20250224213721843077.jpg → organized_data\\images\\img_20250224213721843077.jpg\n",
      "Moved: img_20250224213752852462.jpg → organized_data\\images\\img_20250224213752852462.jpg\n",
      "Moved: img_20250224213859419876.jpg → organized_data\\images\\img_20250224213859419876.jpg\n",
      "Moved: language.txt → organized_data\\text_files\\language.txt\n",
      "Moved: QR-Code-Discord-Bot.png → organized_data\\images\\QR-Code-Discord-Bot.png\n",
      "Moved: quote1.json → organized_data\\json_files\\quote1.json\n",
      "Moved: quote2.json → organized_data\\json_files\\quote2.json\n",
      "Moved: req.txt → organized_data\\text_files\\req.txt\n",
      "Moved: test.csv → organized_data\\csv_files\\test.csv\n",
      "Moved: train.csv → organized_data\\csv_files\\train.csv\n",
      "Moved: valorant_grouped_reports.json → organized_data\\json_files\\valorant_grouped_reports.json\n",
      "Files organized successfully!\n"
     ]
    }
   ],
   "source": [
    "# Define destination directories\n",
    "destination_directory = \"organized_data\"\n",
    "\n",
    "# Define file type categories and corresponding folders\n",
    "file_categories = {\n",
    "    \"text_files\": [\"txt\"],\n",
    "    \"csv_files\": [\"csv\"],\n",
    "    \"json_files\": [\"json\"],\n",
    "    \"images\": [\"jpg\", \"png\"],\n",
    "    \"logs\": [\"log\"]\n",
    "}\n",
    "\n",
    "# Define the folder for unrecognized file types\n",
    "others_folder = os.path.join(destination_directory, \"others\")\n",
    "\n",
    "# Ensure the main destination directory and \"others/\" folder exist\n",
    "os.makedirs(destination_directory, exist_ok=True)\n",
    "os.makedirs(others_folder, exist_ok=True)\n",
    "\n",
    "# Move files to their respective folders\n",
    "for file_name in os.listdir(directory):\n",
    "    file_path = os.path.join(directory, file_name)\n",
    "\n",
    "    # Ensure it's a file, not a directory\n",
    "    if os.path.isfile(file_path):\n",
    "        # Get file extension (without the dot) and convert to lowercase\n",
    "        file_extension = file_name.split(\".\")[-1].lower()\n",
    "\n",
    "        # Find the correct folder for this file type\n",
    "        moved = False\n",
    "        for folder, extensions in file_categories.items():\n",
    "            if file_extension in extensions:\n",
    "                folder_path = os.path.join(destination_directory, folder)\n",
    "                os.makedirs(folder_path, exist_ok=True)  # Create subdirectory if missing\n",
    "\n",
    "                # If it's a log file, append a timestamp\n",
    "                if file_extension == \"log\":\n",
    "                    timestamp = datetime.now().strftime(\"%Y%m%d_%H%M%S\")\n",
    "                    name_part = \".\".join(file_name.split(\".\")[:-1])  # Get filename without extension\n",
    "                    new_file_name = f\"{name_part}_{timestamp}.log\"\n",
    "                else:\n",
    "                    new_file_name = file_name  # Keep original name for other files\n",
    "\n",
    "                # Move the file to the appropriate folder\n",
    "                destination_path = os.path.join(folder_path, new_file_name)\n",
    "                shutil.move(file_path, destination_path)\n",
    "                print(f\"Moved: {file_name} → {destination_path}\")\n",
    "                moved = True\n",
    "                break  # Stop searching once a match is found\n",
    "\n",
    "        # If the file type is unknown, move it to \"others/\"\n",
    "        if not moved:\n",
    "            destination_path = os.path.join(others_folder, file_name)\n",
    "            shutil.move(file_path, destination_path)\n",
    "            print(f\"Moved: {file_name} → {destination_path}\")\n",
    "\n",
    "print(\"Files organized successfully!\")\n"
   ]
  },
  {
   "cell_type": "markdown",
   "metadata": {},
   "source": [
    "## Step 6 - Generating a Summary Report\n",
    "- Generate a summary (`summary.txt`) containing:\n",
    "    - Number of files per category.\n",
    "    - Total number of files moved.\n",
    "    - A sample file name from each category."
   ]
  },
  {
   "cell_type": "code",
   "execution_count": 15,
   "metadata": {},
   "outputs": [
    {
     "name": "stdout",
     "output_type": "stream",
     "text": [
      "Summary saved: organized_data\\summary.txt\n"
     ]
    }
   ],
   "source": [
    "# Define destination directory\n",
    "destination_directory = \"organized_data\"\n",
    "\n",
    "# Define file categories (same as in the previous script)\n",
    "file_categories = {\n",
    "    \"text_files\": \"text_files\",\n",
    "    \"csv_files\": \"csv_files\",\n",
    "    \"json_files\": \"json_files\",\n",
    "    \"images\": \"images\",\n",
    "    \"logs\": \"logs\",\n",
    "    \"others\": \"others\"  # For unrecognized file types\n",
    "}\n",
    "\n",
    "# Dictionary to store summary data\n",
    "summary = {category: {\"count\": 0, \"sample\": None} for category in file_categories}\n",
    "total_files_moved = 0\n",
    "\n",
    "# Count files and get a sample for each category\n",
    "for category, folder_name in file_categories.items():\n",
    "    folder_path = os.path.join(destination_directory, folder_name)\n",
    "    \n",
    "    if os.path.exists(folder_path):  # Ensure folder exists\n",
    "        files = os.listdir(folder_path)\n",
    "        summary[category][\"count\"] = len(files)\n",
    "        if files:\n",
    "            summary[category][\"sample\"] = files[0]  # Pick the first file as a sample\n",
    "\n",
    "    total_files_moved += summary[category][\"count\"]\n",
    "\n",
    "# Generate summary report\n",
    "summary_file_path = os.path.join(destination_directory, \"summary.txt\")\n",
    "with open(summary_file_path, \"w\") as summary_file:\n",
    "    summary_file.write(\"File Organization Summary\\n\")\n",
    "    summary_file.write(\"=\" * 30 + \"\\n\")\n",
    "    for category, data in summary.items():\n",
    "        summary_file.write(f\"{category.capitalize()} Files: {data['count']}\\n\")\n",
    "        if data[\"sample\"]:\n",
    "            summary_file.write(f\"  Sample File: {data['sample']}\\n\")\n",
    "    summary_file.write(\"=\" * 30 + \"\\n\")\n",
    "    summary_file.write(f\"Total Files Moved: {total_files_moved}\\n\")\n",
    "\n",
    "print(f\"Summary saved: {summary_file_path}\")\n"
   ]
  }
 ],
 "metadata": {
  "kernelspec": {
   "display_name": "myenv",
   "language": "python",
   "name": "python3"
  },
  "language_info": {
   "codemirror_mode": {
    "name": "ipython",
    "version": 3
   },
   "file_extension": ".py",
   "mimetype": "text/x-python",
   "name": "python",
   "nbconvert_exporter": "python",
   "pygments_lexer": "ipython3",
   "version": "3.12.8"
  }
 },
 "nbformat": 4,
 "nbformat_minor": 2
}
