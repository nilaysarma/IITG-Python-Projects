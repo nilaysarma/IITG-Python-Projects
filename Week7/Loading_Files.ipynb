{
 "cells": [
  {
   "cell_type": "markdown",
   "metadata": {},
   "source": [
    "# Week 7 Lab: Experimenting with loading files"
   ]
  },
  {
   "cell_type": "markdown",
   "metadata": {},
   "source": [
    "### Description\n",
    "You have joined a data analytics team that works with a variety of file formats. Your first task is to read, extract basic information, and print summaries from different types of files stored in a directory dataset."
   ]
  }
 ],
 "metadata": {
  "language_info": {
   "name": "python"
  }
 },
 "nbformat": 4,
 "nbformat_minor": 2
}
