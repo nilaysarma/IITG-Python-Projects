{
 "cells": [
  {
   "cell_type": "markdown",
   "metadata": {},
   "source": [
    "# Week 7 Lab: Experimenting with loading files"
   ]
  },
  {
   "cell_type": "markdown",
   "metadata": {},
   "source": [
    "### Description\n",
    "You have joined a data analytics team that works with a variety of file formats. Your first task is to read, extract basic information, and print summaries from different types of files stored in a directory dataset."
   ]
  },
  {
   "cell_type": "markdown",
   "metadata": {},
   "source": [
    "## Step 0 - Import modules/packages"
   ]
  },
  {
   "cell_type": "code",
   "execution_count": 30,
   "metadata": {},
   "outputs": [],
   "source": [
    "import os\n",
    "import pandas as pd\n",
    "import json\n",
    "from openpyxl import load_workbook\n",
    "from PIL import Image\n",
    "import pdfplumber"
   ]
  },
  {
   "cell_type": "markdown",
   "metadata": {},
   "source": [
    "## Step 1 - Understanding the Data Directory\n",
    "- List all files in the directory and print their names."
   ]
  },
  {
   "cell_type": "code",
   "execution_count": 2,
   "metadata": {},
   "outputs": [],
   "source": [
    "directory_path = \"dataset\""
   ]
  },
  {
   "cell_type": "code",
   "execution_count": 3,
   "metadata": {},
   "outputs": [
    {
     "name": "stdout",
     "output_type": "stream",
     "text": [
      "data.csv\n",
      "data.json\n",
      "data.txt\n",
      "data.xlsx\n",
      "document.pdf\n",
      "image.jpg\n"
     ]
    }
   ],
   "source": [
    "try:\n",
    "    files = os.listdir(directory_path)\n",
    "    for file in files:\n",
    "        print(file)\n",
    "except FileNotFoundError:\n",
    "    print(\"Directory not found.\")"
   ]
  },
  {
   "cell_type": "markdown",
   "metadata": {},
   "source": [
    "## Step 2 & 3 - Opening and Reading Files & Handling Errors Gracefully"
   ]
  },
  {
   "cell_type": "markdown",
   "metadata": {},
   "source": [
    "- Text File (`.txt`) → Read and print the first 5 lines."
   ]
  },
  {
   "cell_type": "code",
   "execution_count": 9,
   "metadata": {},
   "outputs": [
    {
     "name": "stdout",
     "output_type": "stream",
     "text": [
      "I wrote an email to my friend and he praised me for my writing skills.\n",
      "Я написал электронное письмо своему другу, и он похвалил меня за мои писательские навыки.\n",
      "मैंने अपने मित्र को एक ईमेल लिखा और उसने मेरी लेखन कौशल की प्रशंसा की।\n",
      "我给我的朋友写了一封电子邮件，他称赞我的写作技巧。\n",
      "لقد كتبت بريدًا إلكترونيًا إلى صديقي وأشاد بي على مهاراتي في الكتابة.\n"
     ]
    }
   ],
   "source": [
    "file_name = \"data.txt\"\n",
    "file_path = directory_path + \"/\" + file_name\n",
    "try:\n",
    "    with open(file_path, \"r\", encoding=\"utf-8\") as file:\n",
    "        for _ in range(5):\n",
    "            line = file.readline()\n",
    "            if not line:\n",
    "                break\n",
    "            print(line.strip())\n",
    "except FileNotFoundError:\n",
    "    print(\"File not found.\")"
   ]
  },
  {
   "cell_type": "markdown",
   "metadata": {},
   "source": [
    "- CSV File (`.csv`) → Use `pandas` package to load and display the first 3 rows."
   ]
  },
  {
   "cell_type": "code",
   "execution_count": 34,
   "metadata": {},
   "outputs": [
    {
     "name": "stdout",
     "output_type": "stream",
     "text": [
      "     Map My Agent Teammate1 Teammate2 Teammate3 Teammate4  Victory\n",
      "0  Split     Raze      Tejo      Omen      Sage    Cypher    False\n",
      "1  Lotus    Reyna      Sage     Clove      Tejo      Raze     True\n",
      "2  Split     Sage      Omen      Jett      Yoru      Tejo     True\n"
     ]
    }
   ],
   "source": [
    "file_name = \"data.csv\"\n",
    "file_path = directory_path + \"/\" + file_name\n",
    "try:\n",
    "    df = pd.read_csv(file_path, encoding=\"utf-8\")\n",
    "    print(df.head(3))\n",
    "except FileNotFoundError:\n",
    "    print(\"File not found.\")\n",
    "except pd.errors.EmptyDataError:\n",
    "    print(\"CSV file is empty.\")\n",
    "except pd.errors.ParserError:\n",
    "    print(\"Error parsing CSV file.\")"
   ]
  },
  {
   "cell_type": "markdown",
   "metadata": {},
   "source": [
    "- JSON File (`.json`) → Use `json` package to parse and display key-value pairs."
   ]
  },
  {
   "cell_type": "code",
   "execution_count": 35,
   "metadata": {},
   "outputs": [
    {
     "name": "stdout",
     "output_type": "stream",
     "text": [
      "reports_made: {'AFK': 2, 'DISRESPECTFUL_BEHAVIORS': 1, 'SABOTAGING_TEAM': 1}\n",
      "reports_received: {'AFK': 1, 'CHEATING': 1, 'COMMS_ABUSE_TEXT': 1, 'DISRESPECTFUL_BEHAVIORS': 1, 'SABOTAGING_TEAM': 5}\n"
     ]
    }
   ],
   "source": [
    "file_name = \"data.json\"\n",
    "file_path = directory_path + \"/\" + file_name\n",
    "try:\n",
    "    with open(file_path, \"r\", encoding=\"utf-8\") as file:\n",
    "        data = json.load(file)\n",
    "        for key, value in data.items():\n",
    "            print(f\"{key}: {value}\")\n",
    "except FileNotFoundError:\n",
    "    print(\"File not found.\")\n",
    "except json.JSONDecodeError:\n",
    "    print(\"Error decoding JSON file.\")"
   ]
  },
  {
   "cell_type": "markdown",
   "metadata": {},
   "source": [
    "- Excel File (`.xlsx`) → Use `openpyxl` to read and display the first 3 rows."
   ]
  },
  {
   "cell_type": "code",
   "execution_count": 36,
   "metadata": {},
   "outputs": [
    {
     "name": "stdout",
     "output_type": "stream",
     "text": [
      "('Map', 'My Agent', 'Teammate1', 'Teammate2', 'Teammate3', 'Teammate4')\n",
      "('Split', 'Sage', 'Breach', 'Omen', 'Iso', 'Chamber')\n",
      "('Fracture', 'Omen', 'Reyna', 'Deadlock', 'Gekko', 'Sage')\n"
     ]
    }
   ],
   "source": [
    "file_name = \"data.xlsx\"\n",
    "file_path = directory_path + \"/\" + file_name\n",
    "try:\n",
    "    workbook = load_workbook(file_path)\n",
    "    sheet = workbook.active\n",
    "\n",
    "    for row in sheet.iter_rows(min_row=1, max_row=3, values_only=True):\n",
    "        print(row)\n",
    "        \n",
    "except FileNotFoundError:\n",
    "    print(\"File not found.\")\n",
    "except Exception as e:\n",
    "    print(f\"Error reading Excel file: {e}\")"
   ]
  },
  {
   "cell_type": "markdown",
   "metadata": {},
   "source": [
    "- Image File (`.jpg`) → Use `PIL` to open and display the image."
   ]
  },
  {
   "cell_type": "code",
   "execution_count": 37,
   "metadata": {},
   "outputs": [],
   "source": [
    "file_name = \"image.jpg\"\n",
    "file_path = directory_path + \"/\" + file_name\n",
    "try:\n",
    "    image = Image.open(file_path)\n",
    "    image.show()\n",
    "except FileNotFoundError:\n",
    "    print(\"File not found.\")\n",
    "except Exception as e:\n",
    "    print(f\"Error opening image file: {e}\")"
   ]
  },
  {
   "cell_type": "markdown",
   "metadata": {},
   "source": [
    "- PDF File (`.pdf`) → Use `pdfplumber` to extract and print the first few lines."
   ]
  },
  {
   "cell_type": "code",
   "execution_count": 38,
   "metadata": {},
   "outputs": [
    {
     "name": "stdout",
     "output_type": "stream",
     "text": [
      "DA108 | Lab 07 Assignment\n",
      "Objective A: File Management System for a Research Lab\n",
      "You are working as a data manager in a research lab that collects and organizes data from various\n",
      "sources. Your task is to automate the organization of files stored in a messy directory containing text files\n",
      "(.txt), CSV datasets (.csv), JSON records (.json), images (.jpg, .png), and log files (.log).\n",
      "● Image file (image.jpg)\n",
      "● PDF file (document.pdf)\n",
      "Write a script to list all files in the directory and print their names.\n",
      "Step 2 - Opening and Reading Files\n",
      "Implement functions to open and read each file type:\n"
     ]
    }
   ],
   "source": [
    "file_name = \"document.pdf\"\n",
    "file_path = directory_path + \"/\" + file_name\n",
    "try:\n",
    "    with pdfplumber.open(file_path) as pdf:\n",
    "        num_pages = min(2, len(pdf.pages))\n",
    "        for i in range(num_pages):\n",
    "            text = pdf.pages[i].extract_text()\n",
    "            if text:\n",
    "                lines = text.split(\"\\n\")\n",
    "                for line in lines[:5]:\n",
    "                    print(line)\n",
    "            else:\n",
    "                print(\"No text found on this page.\")\n",
    "except FileNotFoundError:\n",
    "    print(\"File not found.\")\n",
    "except Exception as e:\n",
    "    print(f\"Error reading PDF file: {e}\")"
   ]
  }
 ],
 "metadata": {
  "kernelspec": {
   "display_name": "myenv",
   "language": "python",
   "name": "python3"
  },
  "language_info": {
   "codemirror_mode": {
    "name": "ipython",
    "version": 3
   },
   "file_extension": ".py",
   "mimetype": "text/x-python",
   "name": "python",
   "nbconvert_exporter": "python",
   "pygments_lexer": "ipython3",
   "version": "3.12.8"
  }
 },
 "nbformat": 4,
 "nbformat_minor": 2
}
