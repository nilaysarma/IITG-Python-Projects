{
 "cells": [
  {
   "cell_type": "markdown",
   "metadata": {},
   "source": [
    "# Week 8 Lab: Retail Sales Data Analysis using OOP and Pandas"
   ]
  },
  {
   "cell_type": "markdown",
   "metadata": {},
   "source": [
    "### Description\n",
    "You are working as a data analyst for a retail store. The store maintains sales data for its products, and\n",
    "your task is to process, analyze, and generate reports using Object-Oriented Programming (OOP) and\n",
    "Pandas."
   ]
  },
  {
   "cell_type": "markdown",
   "metadata": {},
   "source": [
    "## Part 0: Import modules/packages"
   ]
  },
  {
   "cell_type": "code",
   "execution_count": 1,
   "metadata": {},
   "outputs": [],
   "source": [
    "import pandas as pd"
   ]
  },
  {
   "cell_type": "markdown",
   "metadata": {},
   "source": [
    "## Part 1: Data Handling with Pandas (Basic)\n",
    "- Load the dataset into a Pandas DataFrame."
   ]
  },
  {
   "cell_type": "code",
   "execution_count": 13,
   "metadata": {},
   "outputs": [],
   "source": [
    "df = pd.read_csv(\"sales_data_india.csv\")"
   ]
  },
  {
   "cell_type": "markdown",
   "metadata": {},
   "source": [
    "- Display the first few rows of the dataset."
   ]
  },
  {
   "cell_type": "code",
   "execution_count": 17,
   "metadata": {},
   "outputs": [
    {
     "data": {
      "text/html": [
       "<div>\n",
       "<style scoped>\n",
       "    .dataframe tbody tr th:only-of-type {\n",
       "        vertical-align: middle;\n",
       "    }\n",
       "\n",
       "    .dataframe tbody tr th {\n",
       "        vertical-align: top;\n",
       "    }\n",
       "\n",
       "    .dataframe thead th {\n",
       "        text-align: right;\n",
       "    }\n",
       "</style>\n",
       "<table border=\"1\" class=\"dataframe\">\n",
       "  <thead>\n",
       "    <tr style=\"text-align: right;\">\n",
       "      <th></th>\n",
       "      <th>OrderID</th>\n",
       "      <th>Product</th>\n",
       "      <th>Category</th>\n",
       "      <th>Quantity</th>\n",
       "      <th>PricePerUnit</th>\n",
       "      <th>TotalPrice</th>\n",
       "      <th>Date</th>\n",
       "      <th>CustomerID</th>\n",
       "      <th>City</th>\n",
       "    </tr>\n",
       "  </thead>\n",
       "  <tbody>\n",
       "    <tr>\n",
       "      <th>0</th>\n",
       "      <td>1001</td>\n",
       "      <td>Laptop</td>\n",
       "      <td>Electronics</td>\n",
       "      <td>1</td>\n",
       "      <td>60000</td>\n",
       "      <td>60000</td>\n",
       "      <td>2024-01-01</td>\n",
       "      <td>C001</td>\n",
       "      <td>Mumbai</td>\n",
       "    </tr>\n",
       "    <tr>\n",
       "      <th>1</th>\n",
       "      <td>1002</td>\n",
       "      <td>Smartphone</td>\n",
       "      <td>Electronics</td>\n",
       "      <td>2</td>\n",
       "      <td>20000</td>\n",
       "      <td>40000</td>\n",
       "      <td>2024-01-02</td>\n",
       "      <td>C002</td>\n",
       "      <td>Delhi</td>\n",
       "    </tr>\n",
       "    <tr>\n",
       "      <th>2</th>\n",
       "      <td>1003</td>\n",
       "      <td>Jeans</td>\n",
       "      <td>Clothing</td>\n",
       "      <td>3</td>\n",
       "      <td>1500</td>\n",
       "      <td>4500</td>\n",
       "      <td>2024-01-03</td>\n",
       "      <td>C003</td>\n",
       "      <td>Bengaluru</td>\n",
       "    </tr>\n",
       "    <tr>\n",
       "      <th>3</th>\n",
       "      <td>1004</td>\n",
       "      <td>LED TV</td>\n",
       "      <td>Electronics</td>\n",
       "      <td>1</td>\n",
       "      <td>45000</td>\n",
       "      <td>45000</td>\n",
       "      <td>2024-01-04</td>\n",
       "      <td>C004</td>\n",
       "      <td>Hyderabad</td>\n",
       "    </tr>\n",
       "    <tr>\n",
       "      <th>4</th>\n",
       "      <td>1005</td>\n",
       "      <td>Kurta</td>\n",
       "      <td>Clothing</td>\n",
       "      <td>4</td>\n",
       "      <td>800</td>\n",
       "      <td>3200</td>\n",
       "      <td>2024-01-05</td>\n",
       "      <td>C005</td>\n",
       "      <td>Chennai</td>\n",
       "    </tr>\n",
       "  </tbody>\n",
       "</table>\n",
       "</div>"
      ],
      "text/plain": [
       "   OrderID     Product     Category  Quantity  PricePerUnit  TotalPrice  \\\n",
       "0     1001      Laptop  Electronics         1         60000       60000   \n",
       "1     1002  Smartphone  Electronics         2         20000       40000   \n",
       "2     1003       Jeans     Clothing         3          1500        4500   \n",
       "3     1004      LED TV  Electronics         1         45000       45000   \n",
       "4     1005       Kurta     Clothing         4           800        3200   \n",
       "\n",
       "         Date CustomerID       City  \n",
       "0  2024-01-01       C001     Mumbai  \n",
       "1  2024-01-02       C002      Delhi  \n",
       "2  2024-01-03       C003  Bengaluru  \n",
       "3  2024-01-04       C004  Hyderabad  \n",
       "4  2024-01-05       C005    Chennai  "
      ]
     },
     "execution_count": 17,
     "metadata": {},
     "output_type": "execute_result"
    }
   ],
   "source": [
    "# print(df.head())\n",
    "df.head()"
   ]
  },
  {
   "cell_type": "markdown",
   "metadata": {},
   "source": [
    "- Handle missing values (if any) by filling or removing them."
   ]
  },
  {
   "cell_type": "code",
   "execution_count": 18,
   "metadata": {},
   "outputs": [
    {
     "name": "stdout",
     "output_type": "stream",
     "text": [
      "Missing values per column: Series([], dtype: int64)\n"
     ]
    }
   ],
   "source": [
    "missing_values = df.isnull().sum()\n",
    "print(\"Missing values per column:\", missing_values[missing_values > 0]) # Display columns with missing values (if any)"
   ]
  }
 ],
 "metadata": {
  "kernelspec": {
   "display_name": "myenv",
   "language": "python",
   "name": "python3"
  },
  "language_info": {
   "codemirror_mode": {
    "name": "ipython",
    "version": 3
   },
   "file_extension": ".py",
   "mimetype": "text/x-python",
   "name": "python",
   "nbconvert_exporter": "python",
   "pygments_lexer": "ipython3",
   "version": "3.12.8"
  }
 },
 "nbformat": 4,
 "nbformat_minor": 2
}
