{
 "cells": [
  {
   "cell_type": "markdown",
   "metadata": {},
   "source": [
    "# Week 10 Lab: Understanding India’s energy and emissions data"
   ]
  },
  {
   "cell_type": "markdown",
   "metadata": {},
   "source": [
    "### Description\n",
    "Understanding India through data can be a joy and also insightful. In this task you will attempt to\n",
    "understand India’s energy and emissions data using visualizations. For this you will make use curated\n",
    "CSV (files) datasets created by Robbie Andrew and hosted at: [robbieandrew.github.io/india](https://robbieandrew.github.io/india/)"
   ]
  }
 ],
 "metadata": {
  "language_info": {
   "name": "python"
  }
 },
 "nbformat": 4,
 "nbformat_minor": 2
}
